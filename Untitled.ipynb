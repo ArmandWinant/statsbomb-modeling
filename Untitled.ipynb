{
 "cells": [
  {
   "cell_type": "code",
   "execution_count": 35,
   "id": "9d2bd1db",
   "metadata": {},
   "outputs": [],
   "source": [
    "import json\n",
    "import pandas as pd"
   ]
  },
  {
   "cell_type": "code",
   "execution_count": 36,
   "id": "6dfdf655",
   "metadata": {},
   "outputs": [],
   "source": [
    "test_filepath = './data/15946.json'"
   ]
  },
  {
   "cell_type": "code",
   "execution_count": 37,
   "id": "d52d1151",
   "metadata": {},
   "outputs": [],
   "source": [
    "\n",
    "with open('./data/15946.json', 'r+') as f:\n",
    "    match_events = json.load(f)"
   ]
  },
  {
   "cell_type": "code",
   "execution_count": 38,
   "id": "1d4175d7",
   "metadata": {},
   "outputs": [],
   "source": [
    "from collections import Counter"
   ]
  },
  {
   "cell_type": "code",
   "execution_count": 39,
   "id": "a6501beb",
   "metadata": {},
   "outputs": [],
   "source": [
    "high_level_keys = Counter()\n",
    "event_count = len(match_events)\n",
    "for event in match_events:\n",
    "    high_level_keys.update(event.keys())"
   ]
  },
  {
   "cell_type": "code",
   "execution_count": 40,
   "id": "4dfe4de6",
   "metadata": {},
   "outputs": [],
   "source": [
    "common_keys = [key for key in high_level_keys.keys() if high_level_keys[key] >= (event_count//2)]"
   ]
  },
  {
   "cell_type": "code",
   "execution_count": 41,
   "id": "447495c7",
   "metadata": {},
   "outputs": [
    {
     "name": "stdout",
     "output_type": "stream",
     "text": [
      "16\n",
      "33\n"
     ]
    }
   ],
   "source": [
    "print(len(common_keys))\n",
    "print(len(high_level_keys.keys()))"
   ]
  },
  {
   "cell_type": "code",
   "execution_count": 42,
   "id": "8fb0c38f",
   "metadata": {},
   "outputs": [
    {
     "data": {
      "text/plain": [
       "['id',\n",
       " 'index',\n",
       " 'period',\n",
       " 'timestamp',\n",
       " 'minute',\n",
       " 'second',\n",
       " 'type',\n",
       " 'possession',\n",
       " 'possession_team',\n",
       " 'play_pattern',\n",
       " 'team',\n",
       " 'duration',\n",
       " 'related_events',\n",
       " 'player',\n",
       " 'position',\n",
       " 'location']"
      ]
     },
     "execution_count": 42,
     "metadata": {},
     "output_type": "execute_result"
    }
   ],
   "source": [
    "common_keys"
   ]
  },
  {
   "cell_type": "code",
   "execution_count": null,
   "id": "2af53534",
   "metadata": {},
   "outputs": [],
   "source": [
    "EVENT TABLE:\n",
    "    id\n",
    "    index\n",
    "    period\n",
    "    timestamp\n",
    "    type\n",
    "    (posession)\n",
    "    (posession_team)\n",
    "    (play_pattern)\n",
    "    (team)"
   ]
  }
 ],
 "metadata": {
  "kernelspec": {
   "display_name": "Python 3 (ipykernel)",
   "language": "python",
   "name": "python3"
  },
  "language_info": {
   "codemirror_mode": {
    "name": "ipython",
    "version": 3
   },
   "file_extension": ".py",
   "mimetype": "text/x-python",
   "name": "python",
   "nbconvert_exporter": "python",
   "pygments_lexer": "ipython3",
   "version": "3.9.12"
  }
 },
 "nbformat": 4,
 "nbformat_minor": 5
}
