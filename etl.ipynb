{
 "cells": [
  {
   "cell_type": "markdown",
   "id": "247bafde",
   "metadata": {},
   "source": [
    "# ETL Processes\n",
    "Use this notebook to develop the ETL process for each of your tables before completing the `etl.py` file to load the whole datasets."
   ]
  },
  {
   "cell_type": "code",
   "execution_count": 1,
   "id": "d5496a47",
   "metadata": {},
   "outputs": [],
   "source": [
    "import os\n",
    "import glob\n",
    "import psycopg2\n",
    "import pandas as pd\n",
    "from sql_queries import *"
   ]
  },
  {
   "cell_type": "code",
   "execution_count": 2,
   "id": "3f5e379c",
   "metadata": {},
   "outputs": [],
   "source": [
    "conn = psycopg2.connect(\"host=127.0.0.1 dbname=statsbomb_db\")\n",
    "cur = conn.cursor()"
   ]
  },
  {
   "cell_type": "code",
   "execution_count": 3,
   "id": "1c89cd85",
   "metadata": {},
   "outputs": [],
   "source": [
    "def get_files(filepath):\n",
    "    all_files = []\n",
    "    for root, dirs, files in os.walk(filepath):\n",
    "        files = glob.glob(os.path.join(root,'*.json'))\n",
    "        for f in files :\n",
    "            all_files.append(os.path.abspath(f))\n",
    "    \n",
    "    return all_files"
   ]
  },
  {
   "cell_type": "code",
   "execution_count": null,
   "id": "83b6d11f",
   "metadata": {},
   "outputs": [],
   "source": [
    "def events_upload(cur, event_dict):\n",
    "    cur.execute(\n",
    "        events_table_insert,\n",
    "        (\n",
    "            events_table_dict[\"id\"],\n",
    "            events_table_dict[\"index\"],\n",
    "            events_table_dict[\"type\"],\n",
    "            events_table_dict[\"play_pattern\"],\n",
    "            events_table_dict[\"event_time\"],\n",
    "            events_table_dict[\"period\"],\n",
    "            events_table_dict[\"location_x\"],\n",
    "            events_table_dict[\"location_y\"],\n",
    "            events_table_dict[\"possession_team\"],\n",
    "            events_table_dict[\"possession\"],\n",
    "            events_table_dict[\"team\"],\n",
    "            events_table_dict[\"player\"],\n",
    "            events_table_dict[\"team\"],\n",
    "            events_table_dict[\"duration\"],\n",
    "        )\n",
    "    )\n",
    "    \n",
    "    cur.commit()"
   ]
  },
  {
   "cell_type": "markdown",
   "id": "2ec8bfdb",
   "metadata": {},
   "source": [
    "# Process `events` files\n",
    "In this first part, you'll perform ETL on the first dataset, `song_data`, to create the `songs` and `artists` dimensional tables.\n",
    "\n",
    "Let's perform ETL on a single song file and load a single record into each table to start.\n",
    "- Use the `get_files` function provided above to get a list of all song JSON files in `data/song_data`\n",
    "- Select the first song in this list\n",
    "- Read the song file and view the data"
   ]
  },
  {
   "cell_type": "code",
   "execution_count": 5,
   "id": "88464069",
   "metadata": {},
   "outputs": [],
   "source": [
    "conn.close()"
   ]
  },
  {
   "cell_type": "code",
   "execution_count": null,
   "id": "2fe7c6cb",
   "metadata": {},
   "outputs": [],
   "source": []
  }
 ],
 "metadata": {
  "kernelspec": {
   "display_name": "Python 3 (ipykernel)",
   "language": "python",
   "name": "python3"
  },
  "language_info": {
   "codemirror_mode": {
    "name": "ipython",
    "version": 3
   },
   "file_extension": ".py",
   "mimetype": "text/x-python",
   "name": "python",
   "nbconvert_exporter": "python",
   "pygments_lexer": "ipython3",
   "version": "3.9.12"
  }
 },
 "nbformat": 4,
 "nbformat_minor": 5
}
