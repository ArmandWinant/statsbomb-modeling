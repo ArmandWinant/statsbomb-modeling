{
 "cells": [
  {
   "cell_type": "code",
   "execution_count": 10,
   "id": "9d2bd1db",
   "metadata": {},
   "outputs": [],
   "source": [
    "import json\n",
    "import pandas as pd\n",
    "import time\n",
    "import datetime\n",
    "from collections import defaultdict\n",
    "from sql_queries import events_table_insert, teams_table_insert, players_table_insert, matches_table_insert\n",
    "from create_tables import create_database, drop_tables, create_tables\n",
    "from collections import Counter"
   ]
  },
  {
   "cell_type": "code",
   "execution_count": 11,
   "id": "8bf1a1f4",
   "metadata": {},
   "outputs": [],
   "source": [
    "def find_common_keys(json_dicts):\n",
    "    high_level_keys = Counter()\n",
    "    dict_count = len(json_dicts)\n",
    "    for d in json_dicts:\n",
    "        high_level_keys.update(d.keys())\n",
    "        \n",
    "    # identify columns appearing in at least half of data dictionaries\n",
    "    common_keys = [key for key in high_level_keys.keys() if high_level_keys[key] == dict_count]\n",
    "    \n",
    "    return common_keys"
   ]
  },
  {
   "cell_type": "code",
   "execution_count": 12,
   "id": "6cb06bfb",
   "metadata": {},
   "outputs": [],
   "source": [
    "with open('./data/15946.json', 'r+') as f:\n",
    "    match_events = json.load(f)"
   ]
  },
  {
   "cell_type": "code",
   "execution_count": 13,
   "id": "a6501beb",
   "metadata": {},
   "outputs": [],
   "source": [
    "common_keys = find_common_keys(match_events)"
   ]
  },
  {
   "cell_type": "code",
   "execution_count": 14,
   "id": "2b702211",
   "metadata": {},
   "outputs": [
    {
     "data": {
      "text/plain": [
       "['id',\n",
       " 'index',\n",
       " 'period',\n",
       " 'timestamp',\n",
       " 'minute',\n",
       " 'second',\n",
       " 'type',\n",
       " 'possession',\n",
       " 'possession_team',\n",
       " 'play_pattern',\n",
       " 'team']"
      ]
     },
     "execution_count": 14,
     "metadata": {},
     "output_type": "execute_result"
    }
   ],
   "source": [
    "common_keys"
   ]
  },
  {
   "cell_type": "code",
   "execution_count": 15,
   "id": "4dfe4de6",
   "metadata": {},
   "outputs": [
    {
     "ename": "ObjectInUse",
     "evalue": "database \"statsbomb_db\" is being accessed by other users\nDETAIL:  There is 1 other session using the database.\n",
     "output_type": "error",
     "traceback": [
      "\u001b[0;31m---------------------------------------------------------------------------\u001b[0m",
      "\u001b[0;31mObjectInUse\u001b[0m                               Traceback (most recent call last)",
      "Input \u001b[0;32mIn [15]\u001b[0m, in \u001b[0;36m<cell line: 1>\u001b[0;34m()\u001b[0m\n\u001b[0;32m----> 1\u001b[0m cur, conn \u001b[38;5;241m=\u001b[39m \u001b[43mcreate_database\u001b[49m\u001b[43m(\u001b[49m\u001b[43m)\u001b[49m\n\u001b[1;32m      3\u001b[0m drop_tables(cur, conn)\n\u001b[1;32m      4\u001b[0m create_tables(cur, conn)\n",
      "File \u001b[0;32m~/Desktop/Projects/statsbomb-modeling/create_tables.py:16\u001b[0m, in \u001b[0;36mcreate_database\u001b[0;34m()\u001b[0m\n\u001b[1;32m     13\u001b[0m cur \u001b[38;5;241m=\u001b[39m conn\u001b[38;5;241m.\u001b[39mcursor()\n\u001b[1;32m     15\u001b[0m \u001b[38;5;66;03m# create statsbomb databse with UTF8 encoding\u001b[39;00m\n\u001b[0;32m---> 16\u001b[0m \u001b[43mcur\u001b[49m\u001b[38;5;241;43m.\u001b[39;49m\u001b[43mexecute\u001b[49m\u001b[43m(\u001b[49m\u001b[38;5;124;43m\"\u001b[39;49m\u001b[38;5;124;43mDROP DATABASE IF EXISTS statsbomb_db;\u001b[39;49m\u001b[38;5;124;43m\"\u001b[39;49m\u001b[43m)\u001b[49m\n\u001b[1;32m     17\u001b[0m cur\u001b[38;5;241m.\u001b[39mexecute(\u001b[38;5;124m\"\u001b[39m\u001b[38;5;124mCREATE DATABASE statsbomb_db WITH ENCODING \u001b[39m\u001b[38;5;124m'\u001b[39m\u001b[38;5;124mutf8\u001b[39m\u001b[38;5;124m'\u001b[39m\u001b[38;5;124m TEMPLATE template0\u001b[39m\u001b[38;5;124m\"\u001b[39m)\n\u001b[1;32m     19\u001b[0m \u001b[38;5;66;03m# close connection to default database\u001b[39;00m\n",
      "\u001b[0;31mObjectInUse\u001b[0m: database \"statsbomb_db\" is being accessed by other users\nDETAIL:  There is 1 other session using the database.\n"
     ]
    }
   ],
   "source": [
    "cur, conn = create_database()\n",
    "\n",
    "drop_tables(cur, conn)\n",
    "create_tables(cur, conn)"
   ]
  },
  {
   "cell_type": "code",
   "execution_count": null,
   "id": "0466ccd7",
   "metadata": {},
   "outputs": [],
   "source": [
    "def def_value():\n",
    "    return None"
   ]
  },
  {
   "cell_type": "code",
   "execution_count": null,
   "id": "8fb0c38f",
   "metadata": {},
   "outputs": [],
   "source": [
    "with open('./data/15946.json', 'r+') as f:\n",
    "    match_events = json.load(f)\n",
    "    \n",
    "for event in match_events:\n",
    "    events_table_dict = defaultdict(def_value)\n",
    "    teams_table_dict = defaultdict(def_value)\n",
    "    players_table_dict = defaultdict(def_value)\n",
    "    play_patterns_table_dict = defaultdict(def_value)\n",
    "    related_events_table_dict = defaultdict(def_value)\n",
    "    matches_table_dict = defaultdict(def_value)\n",
    "    \n",
    "    # TODO: assing the match ID to the events_table_dict and matches_table_dict\n",
    "    events_table_dict[\"match\"] = 15946\n",
    "    matches_table_dict[\"id\"] = 15946\n",
    "    \n",
    "    \n",
    "    \n",
    "    for key, value in event.items():\n",
    "        if key == \"id\":\n",
    "            events_table_dict[\"id\"] = value\n",
    "            \n",
    "        elif key == \"index\":\n",
    "            events_table_dict[\"index\"] = value\n",
    "            \n",
    "        elif key == \"type\":\n",
    "            events_table_dict[\"type\"] = value[\"name\"]\n",
    "            \n",
    "        elif key == \"play_pattern\":\n",
    "            events_table_dict[\"play_pattern\"] = value[\"name\"]\n",
    "            \n",
    "        elif key == \"timestamp\":\n",
    "            events_table_dict[\"event_time\"] = value\n",
    "            \n",
    "        elif key == \"period\":\n",
    "            events_table_dict[\"period\"] = value\n",
    "            \n",
    "        elif key == \"location\":\n",
    "            location_x, location_y = value\n",
    "            \n",
    "            events_table_dict[\"location_x\"] = location_x,\n",
    "            events_table_dict[\"location_y\"] = location_y\n",
    "            \n",
    "        elif key == \"possession_team\":\n",
    "            events_table_dict[\"possession_team\"] = value[\"id\"]\n",
    "            \n",
    "        elif key == \"possession\":\n",
    "            events_table_dict[\"possession\"] = value\n",
    "            \n",
    "        elif key == \"player\":\n",
    "            events_table_dict[\"player\"] = value[\"id\"]\n",
    "            \n",
    "            players_table_dict[\"id\"] = value[\"id\"]\n",
    "            players_table_dict[\"name\"] = value[\"name\"]\n",
    "            \n",
    "        elif key == \"team\":\n",
    "            events_table_dict[\"team\"] = value[\"id\"]\n",
    "            \n",
    "            teams_table_dict[\"id\"] = value[\"id\"]\n",
    "            teams_table_dict[\"name\"] = value[\"name\"]\n",
    "            \n",
    "            players_table_dict[\"team\"] = value[\"id\"]\n",
    "            \n",
    "        elif key == \"duration\":\n",
    "            events_table_dict[\"duration\"] = value\n",
    "            \n",
    "        elif key == \"position\":\n",
    "            players_table_dict[\"position\"]\n",
    "            \n",
    "    cur.execute(\n",
    "        events_table_insert,\n",
    "        (\n",
    "            events_table_dict[\"id\"],\n",
    "            events_table_dict[\"index\"],\n",
    "            events_table_dict[\"type\"],\n",
    "            events_table_dict[\"play_pattern\"],\n",
    "            events_table_dict[\"event_time\"],\n",
    "            events_table_dict[\"period\"],\n",
    "            events_table_dict[\"location_x\"],\n",
    "            events_table_dict[\"location_y\"],\n",
    "            events_table_dict[\"possession_team\"],\n",
    "            events_table_dict[\"possession\"],\n",
    "            events_table_dict[\"team\"],\n",
    "            events_table_dict[\"player\"],\n",
    "            events_table_dict[\"team\"],\n",
    "            events_table_dict[\"duration\"],\n",
    "        )\n",
    "    )\n",
    "    \n",
    "#     cur.execute(\n",
    "#         teams_table_insert,\n",
    "#         (\n",
    "#             teams_table_dict[\"id\"],\n",
    "#             teams_table_dict[\"name\"],\n",
    "#             teams_table_dict[\"gender\"],\n",
    "#             teams_table_dict[\"country\"]\n",
    "#         )\n",
    "#     )\n",
    "    \n",
    "    if players_table_dict[\"id\"]:\n",
    "        cur.execute(\n",
    "            players_table_insert,\n",
    "            (\n",
    "                players_table_dict[\"id\"],\n",
    "                players_table_dict[\"name\"],\n",
    "                players_table_dict[\"position\"],\n",
    "                players_table_dict[\"team\"]\n",
    "            )\n",
    "        )\n",
    "conn.commit()"
   ]
  },
  {
   "cell_type": "code",
   "execution_count": 16,
   "id": "2af53534",
   "metadata": {},
   "outputs": [],
   "source": [
    "conn.close()"
   ]
  },
  {
   "cell_type": "code",
   "execution_count": null,
   "id": "6006ca60",
   "metadata": {},
   "outputs": [],
   "source": []
  }
 ],
 "metadata": {
  "kernelspec": {
   "display_name": "Python 3 (ipykernel)",
   "language": "python",
   "name": "python3"
  },
  "language_info": {
   "codemirror_mode": {
    "name": "ipython",
    "version": 3
   },
   "file_extension": ".py",
   "mimetype": "text/x-python",
   "name": "python",
   "nbconvert_exporter": "python",
   "pygments_lexer": "ipython3",
   "version": "3.9.12"
  }
 },
 "nbformat": 4,
 "nbformat_minor": 5
}
