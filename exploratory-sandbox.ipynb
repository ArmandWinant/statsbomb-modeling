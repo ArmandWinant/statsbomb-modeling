{
 "cells": [
  {
   "cell_type": "code",
   "execution_count": 1,
   "id": "9d2bd1db",
   "metadata": {},
   "outputs": [],
   "source": [
    "import json\n",
    "import pandas as pd\n",
    "import time\n",
    "import datetime\n",
    "from collections import defaultdict\n",
    "from sql_queries import events_table_insert, teams_table_insert, players_table_insert, related_events_table_insert, matches_table_insert\n",
    "from create_tables import create_database, drop_tables, create_tables\n",
    "from collections import Counter"
   ]
  },
  {
   "cell_type": "code",
   "execution_count": 2,
   "id": "99ca465c",
   "metadata": {},
   "outputs": [],
   "source": [
    "def find_common_keys(json_dicts):\n",
    "    high_level_keys = Counter()\n",
    "    dict_count = len(json_dicts)\n",
    "    for d in json_dicts:\n",
    "        high_level_keys.update(d.keys())\n",
    "        \n",
    "    # identify columns appearing in at least half of data dictionaries\n",
    "    common_keys = [key for key in high_level_keys.keys() if high_level_keys[key] == dict_count]\n",
    "    \n",
    "    return common_keys"
   ]
  },
  {
   "cell_type": "code",
   "execution_count": 3,
   "id": "1a892e3b",
   "metadata": {},
   "outputs": [],
   "source": [
    "with open('./data/15946.json', 'r+') as f:\n",
    "    match_events = json.load(f)"
   ]
  },
  {
   "cell_type": "code",
   "execution_count": 4,
   "id": "a6501beb",
   "metadata": {},
   "outputs": [],
   "source": [
    "common_keys = find_common_keys(match_events)"
   ]
  },
  {
   "cell_type": "code",
   "execution_count": 5,
   "id": "00e5b06b",
   "metadata": {},
   "outputs": [
    {
     "data": {
      "text/plain": [
       "['id',\n",
       " 'index',\n",
       " 'period',\n",
       " 'timestamp',\n",
       " 'minute',\n",
       " 'second',\n",
       " 'type',\n",
       " 'possession',\n",
       " 'possession_team',\n",
       " 'play_pattern',\n",
       " 'team']"
      ]
     },
     "execution_count": 5,
     "metadata": {},
     "output_type": "execute_result"
    }
   ],
   "source": [
    "common_keys"
   ]
  },
  {
   "cell_type": "code",
   "execution_count": 6,
   "id": "4dfe4de6",
   "metadata": {},
   "outputs": [],
   "source": [
    "cur, conn = create_database()\n",
    "\n",
    "drop_tables(cur, conn)\n",
    "create_tables(cur, conn)"
   ]
  },
  {
   "cell_type": "code",
   "execution_count": 7,
   "id": "0466ccd7",
   "metadata": {},
   "outputs": [],
   "source": [
    "def def_value():\n",
    "    return None"
   ]
  },
  {
   "cell_type": "code",
   "execution_count": 8,
   "id": "8fb0c38f",
   "metadata": {},
   "outputs": [],
   "source": [
    "for event in match_events:\n",
    "    events_table_dict = defaultdict(def_value)\n",
    "    teams_table_dict = defaultdict(def_value)\n",
    "    players_table_dict = defaultdict(def_value)\n",
    "    \n",
    "    events_table_dict[\"id\"] = event[\"id\"]\n",
    "    events_table_dict[\"index\"] = event[\"index\"]\n",
    "    events_table_dict[\"type\"] = event[\"type\"][\"name\"]\n",
    "    events_table_dict[\"play_pattern\"] = event[\"play_pattern\"][\"name\"]\n",
    "    events_table_dict[\"event_time\"] = event[\"timestamp\"]\n",
    "    events_table_dict[\"period\"] = event[\"period\"]\n",
    "    events_table_dict[\"possession\"] = event[\"possession\"]\n",
    "    events_table_dict[\"possession_team\"] = event[\"possession_team\"][\"id\"]\n",
    "    events_table_dict[\"team\"] = event[\"team\"][\"id\"]\n",
    "    \n",
    "    teams_table_dict[\"id\"] = event[\"team\"][\"id\"]\n",
    "    teams_table_dict[\"name\"] = event[\"team\"][\"name\"]\n",
    "    \n",
    "    players_table_dict[\"team\"] = event[\"team\"][\"id\"]\n",
    "    \n",
    "    \n",
    "    # TODO: assign the match ID to the events_table_dict and matches_table_dict\n",
    "    events_table_dict[\"match\"] = 15946\n",
    "    \n",
    "    for key, value in event.items():\n",
    "        if key == \"location\":\n",
    "            location_x, location_y = value\n",
    "            \n",
    "            events_table_dict[\"location_x\"] = location_x,\n",
    "            events_table_dict[\"location_y\"] = location_y\n",
    "            \n",
    "        elif key == \"possession_team\":\n",
    "            events_table_dict[\"possession_team\"] = value[\"id\"]\n",
    "            \n",
    "        elif key == \"player\":\n",
    "            events_table_dict[\"player\"] = value[\"id\"]\n",
    "            \n",
    "            players_table_dict[\"id\"] = value[\"id\"]\n",
    "            players_table_dict[\"name\"] = value[\"name\"]\n",
    "            \n",
    "        elif key == \"duration\":\n",
    "            events_table_dict[\"duration\"] = value\n",
    "            \n",
    "        elif key == \"position\":\n",
    "            players_table_dict[\"position\"] = value[\"name\"]\n",
    "            \n",
    "        elif key == \"related_events\":\n",
    "            for event_id in value:\n",
    "                cur.execute(\n",
    "                    related_events_table_insert,\n",
    "                    (\n",
    "                        event[\"id\"],\n",
    "                        event_id\n",
    "                    )\n",
    "                )\n",
    "            \n",
    "    cur.execute(\n",
    "        events_table_insert,\n",
    "        (\n",
    "            events_table_dict[\"id\"],\n",
    "            events_table_dict[\"index\"],\n",
    "            events_table_dict[\"type\"],\n",
    "            events_table_dict[\"play_pattern\"],\n",
    "            events_table_dict[\"event_time\"],\n",
    "            events_table_dict[\"period\"],\n",
    "            events_table_dict[\"location_x\"],\n",
    "            events_table_dict[\"location_y\"],\n",
    "            events_table_dict[\"possession_team\"],\n",
    "            events_table_dict[\"possession\"],\n",
    "            events_table_dict[\"team\"],\n",
    "            events_table_dict[\"player\"],\n",
    "            events_table_dict[\"team\"],\n",
    "            events_table_dict[\"duration\"],\n",
    "        )\n",
    "    )\n",
    "    \n",
    "    cur.execute(\n",
    "        teams_table_insert,\n",
    "        (\n",
    "            teams_table_dict[\"id\"],\n",
    "            teams_table_dict[\"name\"],\n",
    "            teams_table_dict[\"gender\"],\n",
    "            teams_table_dict[\"country\"]\n",
    "        )\n",
    "    )\n",
    "    \n",
    "    if players_table_dict[\"id\"]:\n",
    "        cur.execute(\n",
    "            players_table_insert,\n",
    "            (\n",
    "                players_table_dict[\"id\"],\n",
    "                players_table_dict[\"name\"],\n",
    "                players_table_dict[\"position\"],\n",
    "                players_table_dict[\"team\"]\n",
    "            )\n",
    "        )\n",
    "conn.commit()"
   ]
  },
  {
   "cell_type": "code",
   "execution_count": 9,
   "id": "6006ca60",
   "metadata": {},
   "outputs": [],
   "source": [
    "with open('../open-data/data/matches/11/1.json', 'r+') as f:\n",
    "    match_details = json.load(f)"
   ]
  },
  {
   "cell_type": "code",
   "execution_count": 10,
   "id": "795e9e8f",
   "metadata": {},
   "outputs": [],
   "source": [
    "match_keys = find_common_keys(match_details)"
   ]
  },
  {
   "cell_type": "code",
   "execution_count": 11,
   "id": "4f07bd09",
   "metadata": {},
   "outputs": [
    {
     "name": "stdout",
     "output_type": "stream",
     "text": [
      "defaultdict(<function def_value at 0x11e91b430>, {'id': (9799,), 'stadium': 347, 'match_date': '2018-02-17', 'competition': 11, 'home_team': 322, 'away_team': 217, 'home_score': 0, 'away_score': 2})\n",
      "defaultdict(<function def_value at 0x11e91b430>, {'id': (9636,), 'stadium': 342, 'match_date': '2017-10-01', 'competition': 11, 'home_team': 217, 'away_team': 208, 'home_score': 3, 'away_score': 0})\n",
      "defaultdict(<function def_value at 0x11e91b430>, {'id': (9609,), 'stadium': 342, 'match_date': '2017-09-19', 'competition': 11, 'home_team': 217, 'away_team': 322, 'home_score': 6, 'away_score': 1})\n",
      "defaultdict(<function def_value at 0x11e91b430>, {'id': (9575,), 'stadium': 342, 'match_date': '2017-08-20', 'competition': 11, 'home_team': 217, 'away_team': 218, 'home_score': 2, 'away_score': 0})\n",
      "defaultdict(<function def_value at 0x11e91b430>, {'id': (9928,), 'stadium': 342, 'match_date': '2018-05-09', 'competition': 11, 'home_team': 217, 'away_team': 222, 'home_score': 5, 'away_score': 1})\n",
      "defaultdict(<function def_value at 0x11e91b430>, {'id': (9736,), 'stadium': 353, 'match_date': '2017-12-23', 'competition': 11, 'home_team': 220, 'away_team': 217, 'home_score': 0, 'away_score': 3})\n",
      "defaultdict(<function def_value at 0x11e91b430>, {'id': (9742,), 'stadium': 342, 'match_date': '2018-01-07', 'competition': 11, 'home_team': 217, 'away_team': 221, 'home_score': 3, 'away_score': 0})\n",
      "defaultdict(<function def_value at 0x11e91b430>, {'id': (9855,), 'stadium': 342, 'match_date': '2018-03-18', 'competition': 11, 'home_team': 217, 'away_team': 215, 'home_score': 2, 'away_score': 0})\n",
      "defaultdict(<function def_value at 0x11e91b430>, {'id': (9765,), 'stadium': 352, 'match_date': '2018-01-21', 'competition': 11, 'home_team': 218, 'away_team': 217, 'home_score': 0, 'away_score': 5})\n",
      "defaultdict(<function def_value at 0x11e91b430>, {'id': (9880,), 'stadium': 342, 'match_date': '2018-04-14', 'competition': 11, 'home_team': 217, 'away_team': 207, 'home_score': 2, 'away_score': 1})\n",
      "defaultdict(<function def_value at 0x11e91b430>, {'id': (9924,), 'stadium': 342, 'match_date': '2018-05-06', 'competition': 11, 'home_team': 217, 'away_team': 220, 'home_score': 2, 'away_score': 2})\n",
      "defaultdict(<function def_value at 0x11e91b430>, {'id': (9661,), 'stadium': 345, 'match_date': '2017-10-28', 'competition': 11, 'home_team': 215, 'away_team': 217, 'home_score': 0, 'away_score': 2})\n",
      "defaultdict(<function def_value at 0x11e91b430>, {'id': (9592,), 'stadium': 342, 'match_date': '2017-09-09', 'competition': 11, 'home_team': 217, 'away_team': 214, 'home_score': 5, 'away_score': 0})\n",
      "defaultdict(<function def_value at 0x11e91b430>, {'id': (9870,), 'stadium': 342, 'match_date': '2018-04-07', 'competition': 11, 'home_team': 217, 'away_team': 205, 'home_score': 3, 'away_score': 1})\n",
      "defaultdict(<function def_value at 0x11e91b430>, {'id': (9783,), 'stadium': 351, 'match_date': '2018-02-04', 'competition': 11, 'home_team': 214, 'away_team': 217, 'home_score': 1, 'away_score': 1})\n",
      "defaultdict(<function def_value at 0x11e91b430>, {'id': (9700,), 'stadium': 342, 'match_date': '2017-12-02', 'competition': 11, 'home_team': 217, 'away_team': 209, 'home_score': 2, 'away_score': 2})\n",
      "defaultdict(<function def_value at 0x11e91b430>, {'id': (9860,), 'stadium': 349, 'match_date': '2018-03-31', 'competition': 11, 'home_team': 213, 'away_team': 217, 'home_score': 2, 'away_score': 2})\n",
      "defaultdict(<function def_value at 0x11e91b430>, {'id': (9695,), 'stadium': 344, 'match_date': '2017-11-26', 'competition': 11, 'home_team': 207, 'away_team': 217, 'home_score': 1, 'away_score': 1})\n",
      "defaultdict(<function def_value at 0x11e91b430>, {'id': (9794,), 'stadium': 342, 'match_date': '2018-02-11', 'competition': 11, 'home_team': 217, 'away_team': 216, 'home_score': 0, 'away_score': 0})\n",
      "defaultdict(<function def_value at 0x11e91b430>, {'id': (9717,), 'stadium': 361, 'match_date': '2017-12-10', 'competition': 11, 'home_team': 222, 'away_team': 217, 'home_score': 0, 'away_score': 2})\n",
      "defaultdict(<function def_value at 0x11e91b430>, {'id': (9673,), 'stadium': 342, 'match_date': '2017-11-04', 'competition': 11, 'home_team': 217, 'away_team': 213, 'home_score': 2, 'away_score': 1})\n",
      "defaultdict(<function def_value at 0x11e91b430>, {'id': (9650,), 'stadium': 342, 'match_date': '2017-10-21', 'competition': 11, 'home_team': 217, 'away_team': 223, 'home_score': 2, 'away_score': 0})\n",
      "defaultdict(<function def_value at 0x11e91b430>, {'id': (9620,), 'stadium': 343, 'match_date': '2017-09-23', 'competition': 11, 'home_team': 211, 'away_team': 217, 'home_score': 0, 'away_score': 3})\n",
      "defaultdict(<function def_value at 0x11e91b430>, {'id': (9827,), 'stadium': 357, 'match_date': '2018-03-01', 'competition': 11, 'home_team': 208, 'away_team': 217, 'home_score': 1, 'away_score': 1})\n",
      "defaultdict(<function def_value at 0x11e91b430>, {'id': (9837,), 'stadium': 342, 'match_date': '2018-03-04', 'competition': 11, 'home_team': 217, 'away_team': 212, 'home_score': 1, 'away_score': 0})\n",
      "defaultdict(<function def_value at 0x11e91b430>, {'id': (9912,), 'stadium': 4658, 'match_date': '2018-04-29', 'competition': 11, 'home_team': 219, 'away_team': 217, 'home_score': 2, 'away_score': 4})\n",
      "defaultdict(<function def_value at 0x11e91b430>, {'id': (9811,), 'stadium': 342, 'match_date': '2018-02-24', 'competition': 11, 'home_team': 217, 'away_team': 211, 'home_score': 6, 'away_score': 1})\n",
      "defaultdict(<function def_value at 0x11e91b430>, {'id': (9642,), 'stadium': 4654, 'match_date': '2017-10-14', 'competition': 11, 'home_team': 212, 'away_team': 217, 'home_score': 1, 'away_score': 1})\n",
      "defaultdict(<function def_value at 0x11e91b430>, {'id': (9774,), 'stadium': 342, 'match_date': '2018-01-28', 'competition': 11, 'home_team': 217, 'away_team': 206, 'home_score': 2, 'away_score': 1})\n",
      "defaultdict(<function def_value at 0x11e91b430>, {'id': (9602,), 'stadium': 354, 'match_date': '2017-09-16', 'competition': 11, 'home_team': 216, 'away_team': 217, 'home_score': 1, 'away_score': 2})\n",
      "defaultdict(<function def_value at 0x11e91b430>, {'id': (9948,), 'stadium': 342, 'match_date': '2018-05-20', 'competition': 11, 'home_team': 217, 'away_team': 210, 'home_score': 1, 'away_score': 0})\n",
      "defaultdict(<function def_value at 0x11e91b430>, {'id': (9682,), 'stadium': 355, 'match_date': '2017-11-18', 'competition': 11, 'home_team': 205, 'away_team': 217, 'home_score': 0, 'away_score': 3})\n",
      "defaultdict(<function def_value at 0x11e91b430>, {'id': (9581,), 'stadium': 348, 'match_date': '2017-08-26', 'competition': 11, 'home_team': 206, 'away_team': 217, 'home_score': 0, 'away_score': 2})\n",
      "defaultdict(<function def_value at 0x11e91b430>, {'id': (9726,), 'stadium': 342, 'match_date': '2017-12-17', 'competition': 11, 'home_team': 217, 'away_team': 219, 'home_score': 4, 'away_score': 0})\n",
      "defaultdict(<function def_value at 0x11e91b430>, {'id': (9754,), 'stadium': 5043, 'match_date': '2018-01-14', 'competition': 11, 'home_team': 210, 'away_team': 217, 'home_score': 2, 'away_score': 4})\n",
      "defaultdict(<function def_value at 0x11e91b430>, {'id': (9889,), 'stadium': 653, 'match_date': '2018-04-17', 'competition': 11, 'home_team': 209, 'away_team': 217, 'home_score': 2, 'away_score': 2})\n"
     ]
    }
   ],
   "source": [
    "for match in match_details:\n",
    "    match_table_dict = defaultdict(def_value)\n",
    "    \n",
    "    match_table_dict[\"id\"] = match[\"match_id\"],\n",
    "    match_table_dict[\"stadium\"] = match[\"stadium\"][\"id\"]\n",
    "    match_table_dict[\"match_date\"] = match[\"match_date\"]\n",
    "    match_table_dict[\"competition\"] = match[\"competition\"][\"competition_id\"]\n",
    "    match_table_dict[\"home_team\"] = match[\"home_team\"][\"home_team_id\"]\n",
    "    match_table_dict[\"away_team\"] = match[\"away_team\"][\"away_team_id\"]\n",
    "    match_table_dict[\"home_score\"] = match[\"home_score\"]\n",
    "    match_table_dict[\"away_score\"] = match[\"away_score\"]\n",
    "\n",
    "    cur.execute(\n",
    "        matches_table_insert,\n",
    "        (\n",
    "            match_table_dict[\"id\"],\n",
    "            match_table_dict[\"stadium\"],\n",
    "            match_table_dict[\"match_date\"],\n",
    "            match_table_dict[\"competition\"],\n",
    "            match_table_dict[\"home_team\"],\n",
    "            match_table_dict[\"away_team\"],\n",
    "            match_table_dict[\"home_score\"],\n",
    "            match_table_dict[\"away_score\"]\n",
    "        )\n",
    "    )\n",
    "conn.commit()"
   ]
  },
  {
   "cell_type": "code",
   "execution_count": 12,
   "id": "3fa18017",
   "metadata": {},
   "outputs": [],
   "source": [
    "conn.close()"
   ]
  },
  {
   "cell_type": "code",
   "execution_count": null,
   "id": "54e66f50",
   "metadata": {},
   "outputs": [],
   "source": []
  }
 ],
 "metadata": {
  "kernelspec": {
   "display_name": "Python 3 (ipykernel)",
   "language": "python",
   "name": "python3"
  },
  "language_info": {
   "codemirror_mode": {
    "name": "ipython",
    "version": 3
   },
   "file_extension": ".py",
   "mimetype": "text/x-python",
   "name": "python",
   "nbconvert_exporter": "python",
   "pygments_lexer": "ipython3",
   "version": "3.9.12"
  }
 },
 "nbformat": 4,
 "nbformat_minor": 5
}
