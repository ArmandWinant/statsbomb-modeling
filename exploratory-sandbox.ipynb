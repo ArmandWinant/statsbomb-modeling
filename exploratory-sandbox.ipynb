{
 "cells": [
  {
   "cell_type": "code",
   "execution_count": 1,
   "id": "9d2bd1db",
   "metadata": {},
   "outputs": [],
   "source": [
    "import json\n",
    "import pandas as pd\n",
    "import time\n",
    "import datetime\n",
    "from collections import defaultdict\n",
    "from sql_queries import events_table_insert, teams_table_insert, players_table_insert, related_events_table_insert, matches_table_insert, referees_table_insert\n",
    "from create_tables import create_database, drop_tables, create_tables\n",
    "from collections import Counter"
   ]
  },
  {
   "cell_type": "code",
   "execution_count": 2,
   "id": "99ca465c",
   "metadata": {},
   "outputs": [],
   "source": [
    "def find_common_keys(json_dicts):\n",
    "    high_level_keys = Counter()\n",
    "    dict_count = len(json_dicts)\n",
    "    for d in json_dicts:\n",
    "        high_level_keys.update(d.keys())\n",
    "    print(high_level_keys.keys())\n",
    "    # identify columns appearing in at least half of data dictionaries\n",
    "    common_keys = [key for key in high_level_keys.keys() if high_level_keys[key] == dict_count]\n",
    "    \n",
    "    return common_keys"
   ]
  },
  {
   "cell_type": "code",
   "execution_count": 3,
   "id": "1a892e3b",
   "metadata": {},
   "outputs": [],
   "source": [
    "with open('./data/15946.json', 'r+') as f:\n",
    "    match_events = json.load(f)"
   ]
  },
  {
   "cell_type": "code",
   "execution_count": 4,
   "id": "a6501beb",
   "metadata": {},
   "outputs": [
    {
     "name": "stdout",
     "output_type": "stream",
     "text": [
      "dict_keys(['id', 'index', 'period', 'timestamp', 'minute', 'second', 'type', 'possession', 'possession_team', 'play_pattern', 'team', 'duration', 'tactics', 'related_events', 'player', 'position', 'location', 'pass', 'carry', 'ball_receipt', 'counterpress', 'under_pressure', 'ball_recovery', 'shot', 'goalkeeper', 'duel', 'dribble', 'foul_committed', 'interception', 'block', 'foul_won', 'bad_behaviour', 'substitution'])\n"
     ]
    }
   ],
   "source": [
    "common_keys = find_common_keys(match_events)"
   ]
  },
  {
   "cell_type": "code",
   "execution_count": 5,
   "id": "00e5b06b",
   "metadata": {},
   "outputs": [
    {
     "data": {
      "text/plain": [
       "['id',\n",
       " 'index',\n",
       " 'period',\n",
       " 'timestamp',\n",
       " 'minute',\n",
       " 'second',\n",
       " 'type',\n",
       " 'possession',\n",
       " 'possession_team',\n",
       " 'play_pattern',\n",
       " 'team']"
      ]
     },
     "execution_count": 5,
     "metadata": {},
     "output_type": "execute_result"
    }
   ],
   "source": [
    "common_keys"
   ]
  },
  {
   "cell_type": "code",
   "execution_count": 6,
   "id": "4dfe4de6",
   "metadata": {},
   "outputs": [],
   "source": [
    "cur, conn = create_database()\n",
    "\n",
    "drop_tables(cur, conn)\n",
    "create_tables(cur, conn)"
   ]
  },
  {
   "cell_type": "code",
   "execution_count": 7,
   "id": "fcb37283",
   "metadata": {},
   "outputs": [],
   "source": [
    "def events_table_upload(cur, row_dict):\n",
    "    cur.execute(\n",
    "        events_table_insert,\n",
    "        (\n",
    "            row_dict[\"id\"],\n",
    "            row_dict[\"index\"],\n",
    "            row_dict[\"type\"],\n",
    "            row_dict[\"play_pattern\"],\n",
    "            row_dict[\"event_time\"],\n",
    "            row_dict[\"period\"],\n",
    "            row_dict[\"location_x\"],\n",
    "            row_dict[\"location_y\"],\n",
    "            row_dict[\"possession_team\"],\n",
    "            row_dict[\"possession\"],\n",
    "            row_dict[\"team\"],\n",
    "            row_dict[\"player\"],\n",
    "            row_dict[\"team\"],\n",
    "            row_dict[\"duration\"],\n",
    "        )\n",
    "    )"
   ]
  },
  {
   "cell_type": "code",
   "execution_count": 8,
   "id": "285eae3d",
   "metadata": {},
   "outputs": [],
   "source": [
    "def teams_table_upload(cur, row_dict):\n",
    "    cur.execute(\n",
    "        teams_table_insert,\n",
    "        (\n",
    "            row_dict[\"id\"],\n",
    "            row_dict[\"name\"],\n",
    "            row_dict[\"gender\"],\n",
    "            row_dict[\"country\"]\n",
    "        )\n",
    "    )"
   ]
  },
  {
   "cell_type": "code",
   "execution_count": 9,
   "id": "ef31af55",
   "metadata": {},
   "outputs": [],
   "source": [
    "def players_table_upload(cur, row_dict):\n",
    "    if row_dict[\"id\"]:\n",
    "        cur.execute(\n",
    "            players_table_insert,\n",
    "            (\n",
    "                row_dict[\"id\"],\n",
    "                row_dict[\"name\"],\n",
    "                row_dict[\"position\"],\n",
    "                row_dict[\"team\"]\n",
    "            )\n",
    "        )"
   ]
  },
  {
   "cell_type": "code",
   "execution_count": null,
   "id": "40a30f41",
   "metadata": {},
   "outputs": [],
   "source": [
    "def referees_table_upload(cur, row_dict):\n",
    "    if row_dict[\"id\"]:\n",
    "        cur.execute(\n",
    "            referees_table_insert,\n",
    "            (\n",
    "                row_dict[\"id\"],\n",
    "                row_dict[\"name\"],\n",
    "                row_dict[\"country\"]\n",
    "            )\n",
    "        )"
   ]
  },
  {
   "cell_type": "code",
   "execution_count": null,
   "id": "cdb0585d",
   "metadata": {},
   "outputs": [],
   "source": [
    "def matches_table_upload(cur, row_dict):\n",
    "    cur.execute(\n",
    "        matches_table_insert,\n",
    "        (\n",
    "            row_dict[\"id\"],\n",
    "            row_dict[\"date\"],\n",
    "            row_dict[\"kick_off\"],\n",
    "            row_dict[\"competition\"],\n",
    "            row_dict[\"season\"],\n",
    "            row_dict[\"match_week\"],\n",
    "            row_dict[\"competition_stage\"],\n",
    "            row_dict[\"stadium\"],\n",
    "            row_dict[\"home_team\"],\n",
    "            row_dict[\"away_team\"],\n",
    "            row_dict[\"home_score\"],\n",
    "            row_dict[\"away_score\"],\n",
    "            row_dict[\"match_status\"],\n",
    "            row_dict[\"last_updated\"]\n",
    "        )\n",
    "    )"
   ]
  },
  {
   "cell_type": "code",
   "execution_count": 10,
   "id": "0466ccd7",
   "metadata": {},
   "outputs": [],
   "source": [
    "def def_value():\n",
    "    return None"
   ]
  },
  {
   "cell_type": "code",
   "execution_count": 11,
   "id": "8fb0c38f",
   "metadata": {},
   "outputs": [],
   "source": [
    "for event in match_events:\n",
    "    events_table_dict = defaultdict(def_value)\n",
    "    teams_table_dict = defaultdict(def_value)\n",
    "    players_table_dict = defaultdict(def_value)\n",
    "    \n",
    "    events_table_dict[\"id\"] = event[\"id\"]\n",
    "    events_table_dict[\"index\"] = event[\"index\"]\n",
    "    events_table_dict[\"type\"] = event[\"type\"][\"name\"]\n",
    "    events_table_dict[\"play_pattern\"] = event[\"play_pattern\"][\"name\"]\n",
    "    events_table_dict[\"event_time\"] = event[\"timestamp\"]\n",
    "    events_table_dict[\"period\"] = event[\"period\"]\n",
    "    events_table_dict[\"possession\"] = event[\"possession\"]\n",
    "    events_table_dict[\"possession_team\"] = event[\"possession_team\"][\"id\"]\n",
    "    events_table_dict[\"team\"] = event[\"team\"][\"id\"]\n",
    "    \n",
    "    teams_table_dict[\"id\"] = event[\"team\"][\"id\"]\n",
    "    teams_table_dict[\"name\"] = event[\"team\"][\"name\"]\n",
    "    \n",
    "    players_table_dict[\"team\"] = event[\"team\"][\"id\"]\n",
    "    \n",
    "    \n",
    "    # TODO: assign the match ID to the events_table_dict and matches_table_dict\n",
    "    events_table_dict[\"match\"] = 15946\n",
    "    \n",
    "    for key, value in event.items():\n",
    "        if key == \"location\":\n",
    "            location_x, location_y = value\n",
    "            \n",
    "            events_table_dict[\"location_x\"] = location_x,\n",
    "            events_table_dict[\"location_y\"] = location_y\n",
    "            \n",
    "        elif key == \"possession_team\":\n",
    "            events_table_dict[\"possession_team\"] = value[\"id\"]\n",
    "            \n",
    "        elif key == \"player\":\n",
    "            events_table_dict[\"player\"] = value[\"id\"]\n",
    "            \n",
    "            players_table_dict[\"id\"] = value[\"id\"]\n",
    "            players_table_dict[\"name\"] = value[\"name\"]\n",
    "            \n",
    "        elif key == \"duration\":\n",
    "            events_table_dict[\"duration\"] = value\n",
    "            \n",
    "        elif key == \"position\":\n",
    "            players_table_dict[\"position\"] = value[\"name\"]\n",
    "            \n",
    "        elif key == \"related_events\":\n",
    "            for event_id in value:\n",
    "                cur.execute(\n",
    "                    related_events_table_insert,\n",
    "                    (\n",
    "                        event[\"id\"],\n",
    "                        event_id\n",
    "                    )\n",
    "                )\n",
    "            \n",
    "#     cur.execute(\n",
    "#         events_table_insert,\n",
    "#         (\n",
    "#             events_table_dict[\"id\"],\n",
    "#             events_table_dict[\"index\"],\n",
    "#             events_table_dict[\"type\"],\n",
    "#             events_table_dict[\"play_pattern\"],\n",
    "#             events_table_dict[\"event_time\"],\n",
    "#             events_table_dict[\"period\"],\n",
    "#             events_table_dict[\"location_x\"],\n",
    "#             events_table_dict[\"location_y\"],\n",
    "#             events_table_dict[\"possession_team\"],\n",
    "#             events_table_dict[\"possession\"],\n",
    "#             events_table_dict[\"team\"],\n",
    "#             events_table_dict[\"player\"],\n",
    "#             events_table_dict[\"team\"],\n",
    "#             events_table_dict[\"duration\"],\n",
    "#         )\n",
    "#     )\n",
    "    events_table_upload(cur, events_table_dict)\n",
    "    \n",
    "#     cur.execute(\n",
    "#         teams_table_insert,\n",
    "#         (\n",
    "#             teams_table_dict[\"id\"],\n",
    "#             teams_table_dict[\"name\"],\n",
    "#             teams_table_dict[\"gender\"],\n",
    "#             teams_table_dict[\"country\"]\n",
    "#         )\n",
    "#     )\n",
    "    teams_table_upload(cur, teams_table_dict)\n",
    "    \n",
    "#     if players_table_dict[\"id\"]:\n",
    "#         cur.execute(\n",
    "#             players_table_insert,\n",
    "#             (\n",
    "#                 players_table_dict[\"id\"],\n",
    "#                 players_table_dict[\"name\"],\n",
    "#                 players_table_dict[\"position\"],\n",
    "#                 players_table_dict[\"team\"]\n",
    "#             )\n",
    "#         )\n",
    "    players_table_upload(cur, players_table_dict)\n",
    "conn.commit()"
   ]
  },
  {
   "cell_type": "code",
   "execution_count": 12,
   "id": "6006ca60",
   "metadata": {},
   "outputs": [],
   "source": [
    "with open('../open-data/data/matches/11/1.json', 'r+') as f:\n",
    "    match_details = json.load(f)"
   ]
  },
  {
   "cell_type": "code",
   "execution_count": 13,
   "id": "795e9e8f",
   "metadata": {},
   "outputs": [
    {
     "name": "stdout",
     "output_type": "stream",
     "text": [
      "dict_keys(['match_id', 'match_date', 'kick_off', 'competition', 'season', 'home_team', 'away_team', 'home_score', 'away_score', 'match_status', 'match_status_360', 'last_updated', 'last_updated_360', 'metadata', 'match_week', 'competition_stage', 'stadium', 'referee'])\n"
     ]
    }
   ],
   "source": [
    "match_keys = find_common_keys(match_details)"
   ]
  },
  {
   "cell_type": "code",
   "execution_count": 14,
   "id": "1fc32665",
   "metadata": {},
   "outputs": [
    {
     "data": {
      "text/plain": [
       "['match_id',\n",
       " 'match_date',\n",
       " 'kick_off',\n",
       " 'competition',\n",
       " 'season',\n",
       " 'home_team',\n",
       " 'away_team',\n",
       " 'home_score',\n",
       " 'away_score',\n",
       " 'match_status',\n",
       " 'match_status_360',\n",
       " 'last_updated',\n",
       " 'last_updated_360',\n",
       " 'metadata',\n",
       " 'match_week',\n",
       " 'competition_stage',\n",
       " 'stadium']"
      ]
     },
     "execution_count": 14,
     "metadata": {},
     "output_type": "execute_result"
    }
   ],
   "source": [
    "match_keys"
   ]
  },
  {
   "cell_type": "code",
   "execution_count": 15,
   "id": "4f07bd09",
   "metadata": {},
   "outputs": [],
   "source": [
    "for match in match_details:\n",
    "    match_table_dict = defaultdict(def_value)\n",
    "    referees_table_dict = defaultdict(def_value)\n",
    "    \n",
    "    match_table_dict[\"id\"] = match[\"match_id\"],\n",
    "    match_table_dict[\"date\"] = match[\"match_date\"],\n",
    "    match_table_dict[\"kick_off\"] = match[\"kick_off\"],\n",
    "    match_table_dict[\"competition\"] = match[\"competition\"][\"competition_id\"],\n",
    "    match_table_dict[\"season\"] = match[\"season\"][\"season_name\"],\n",
    "    match_table_dict[\"match_week\"] = match[\"match_week\"],\n",
    "    match_table_dict[\"competition_stage\"] = match[\"competition_stage\"][\"id\"],\n",
    "    match_table_dict[\"stadium\"] = match[\"stadium\"][\"id\"],\n",
    "    match_table_dict[\"home_team\"] = match[\"home_team\"][\"home_team_id\"],\n",
    "    match_table_dict[\"away_team\"] = match[\"away_team\"][\"away_team_id\"],\n",
    "    match_table_dict[\"home_score\"] = match[\"home_score\"],\n",
    "    match_table_dict[\"away_score\"] = match[\"away_score\"],\n",
    "    match_table_dict[\"match_status\"] = match[\"match_status\"],\n",
    "    match_table_dict[\"last_updated\"] = match[\"last_updated\"]\n",
    "    \n",
    "    for key, value in match.items():\n",
    "        if key == \"referee\":\n",
    "            referees_table_dict[\"id\"] = value[\"id\"]\n",
    "            referees_table_dict[\"name\"] = value[\"name\"]\n",
    "            referees_table_dict[\"country\"] = value[\"country\"][\"id\"]    \n",
    "\n",
    "#     cur.execute(\n",
    "#         matches_table_insert,\n",
    "#         (\n",
    "#             match_table_dict[\"id\"],\n",
    "#             match_table_dict[\"date\"],\n",
    "#             match_table_dict[\"kick_off\"],\n",
    "#             match_table_dict[\"competition\"],\n",
    "#             match_table_dict[\"season\"],\n",
    "#             match_table_dict[\"match_week\"],\n",
    "#             match_table_dict[\"competition_stage\"],\n",
    "#             match_table_dict[\"stadium\"],\n",
    "#             match_table_dict[\"home_team\"],\n",
    "#             match_table_dict[\"away_team\"],\n",
    "#             match_table_dict[\"home_score\"],\n",
    "#             match_table_dict[\"away_score\"],\n",
    "#             match_table_dict[\"match_status\"],\n",
    "#             match_table_dict[\"last_updated\"]\n",
    "#         )\n",
    "#     )\n",
    "    matches_table_upload(cur, match_table_dict)\n",
    "    \n",
    "#     if referees_table_dict[\"id\"]:\n",
    "#         cur.execute(\n",
    "#             referees_table_insert,\n",
    "#             (\n",
    "#                 referees_table_dict[\"id\"],\n",
    "#                 referees_table_dict[\"name\"],\n",
    "#                 referees_table_dict[\"country\"]\n",
    "#             )\n",
    "#         )\n",
    "    referees_table_upload(cur, referees_table_dict)\n",
    "conn.commit()"
   ]
  },
  {
   "cell_type": "code",
   "execution_count": 16,
   "id": "3fa18017",
   "metadata": {},
   "outputs": [],
   "source": [
    "conn.close()"
   ]
  },
  {
   "cell_type": "code",
   "execution_count": null,
   "id": "54e66f50",
   "metadata": {},
   "outputs": [],
   "source": []
  }
 ],
 "metadata": {
  "kernelspec": {
   "display_name": "Python 3 (ipykernel)",
   "language": "python",
   "name": "python3"
  },
  "language_info": {
   "codemirror_mode": {
    "name": "ipython",
    "version": 3
   },
   "file_extension": ".py",
   "mimetype": "text/x-python",
   "name": "python",
   "nbconvert_exporter": "python",
   "pygments_lexer": "ipython3",
   "version": "3.9.12"
  }
 },
 "nbformat": 4,
 "nbformat_minor": 5
}
